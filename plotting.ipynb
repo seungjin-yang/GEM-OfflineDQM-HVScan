{
 "cells": [
  {
   "cell_type": "code",
   "execution_count": 1,
   "metadata": {},
   "outputs": [],
   "source": [
    "%matplotlib inline\n",
    "from pathlib import Path\n",
    "from enum import Enum\n",
    "from collections import namedtuple\n",
    "from dataclasses import dataclass\n",
    "from typing import List\n",
    "\n",
    "import numpy as np\n",
    "import pandas as pd\n",
    "import matplotlib.pyplot as plt\n",
    "import mplhep as hep"
   ]
  },
  {
   "cell_type": "code",
   "execution_count": 2,
   "metadata": {},
   "outputs": [],
   "source": [
    "hep.set_style(hep.styles.CMS)"
   ]
  },
  {
   "cell_type": "code",
   "execution_count": 3,
   "metadata": {},
   "outputs": [],
   "source": [
    "REGION_LAYER_LIST = [\n",
    "    (-1, 2),\n",
    "    (-1, 1),\n",
    "    (1, 1),\n",
    "    (1, 2)\n",
    "]\n",
    "\n",
    "NUM_CHAMBERS = 36\n",
    "\n",
    "RUN_HV680_START = 343389"
   ]
  },
  {
   "cell_type": "code",
   "execution_count": 4,
   "metadata": {},
   "outputs": [],
   "source": [
    "\n",
    "plot_dir = Path(\"./plots\")"
   ]
  },
  {
   "cell_type": "code",
   "execution_count": 5,
   "metadata": {},
   "outputs": [],
   "source": [
    "def make_title(region, layer):\n",
    "    return f\"GE11-{'P' if region > 0 else 'M'}-L{layer}\""
   ]
  },
  {
   "cell_type": "code",
   "execution_count": 6,
   "metadata": {},
   "outputs": [],
   "source": [
    "def to_hour(value):\n",
    "    value = pd.to_datetime(value, format=\"%H:%M:%S\")\n",
    "    return value.hour"
   ]
  },
  {
   "cell_type": "code",
   "execution_count": 11,
   "metadata": {},
   "outputs": [
    {
     "data": {
      "text/html": [
       "<div>\n",
       "<style scoped>\n",
       "    .dataframe tbody tr th:only-of-type {\n",
       "        vertical-align: middle;\n",
       "    }\n",
       "\n",
       "    .dataframe tbody tr th {\n",
       "        vertical-align: top;\n",
       "    }\n",
       "\n",
       "    .dataframe thead th {\n",
       "        text-align: right;\n",
       "    }\n",
       "</style>\n",
       "<table border=\"1\" class=\"dataframe\">\n",
       "  <thead>\n",
       "    <tr style=\"text-align: right;\">\n",
       "      <th></th>\n",
       "      <th>run</th>\n",
       "      <th>duration</th>\n",
       "      <th>start</th>\n",
       "      <th>end</th>\n",
       "    </tr>\n",
       "  </thead>\n",
       "  <tbody>\n",
       "    <tr>\n",
       "      <th>0</th>\n",
       "      <td>343774</td>\n",
       "      <td>11:02:04</td>\n",
       "      <td>2021-07-26 19:29:39</td>\n",
       "      <td>2021-07-27 6:31:43</td>\n",
       "    </tr>\n",
       "    <tr>\n",
       "      <th>1</th>\n",
       "      <td>343772</td>\n",
       "      <td>0:25:25</td>\n",
       "      <td>2021-07-26 19:01:41</td>\n",
       "      <td>2021-07-26 19:27:06</td>\n",
       "    </tr>\n",
       "    <tr>\n",
       "      <th>2</th>\n",
       "      <td>343769</td>\n",
       "      <td>0:14:32</td>\n",
       "      <td>2021-07-26 18:42:57</td>\n",
       "      <td>2021-07-26 18:57:29</td>\n",
       "    </tr>\n",
       "    <tr>\n",
       "      <th>3</th>\n",
       "      <td>343767</td>\n",
       "      <td>1:06:32</td>\n",
       "      <td>2021-07-26 17:34:54</td>\n",
       "      <td>2021-07-26 18:41:26</td>\n",
       "    </tr>\n",
       "    <tr>\n",
       "      <th>4</th>\n",
       "      <td>343763</td>\n",
       "      <td>0:07:34</td>\n",
       "      <td>2021-07-26 17:13:23</td>\n",
       "      <td>2021-07-26 17:20:57</td>\n",
       "    </tr>\n",
       "  </tbody>\n",
       "</table>\n",
       "</div>"
      ],
      "text/plain": [
       "      run  duration                start                  end\n",
       "0  343774  11:02:04  2021-07-26 19:29:39   2021-07-27 6:31:43\n",
       "1  343772   0:25:25  2021-07-26 19:01:41  2021-07-26 19:27:06\n",
       "2  343769   0:14:32  2021-07-26 18:42:57  2021-07-26 18:57:29\n",
       "3  343767   1:06:32  2021-07-26 17:34:54  2021-07-26 18:41:26\n",
       "4  343763   0:07:34  2021-07-26 17:13:23  2021-07-26 17:20:57"
      ]
     },
     "execution_count": 11,
     "metadata": {},
     "output_type": "execute_result"
    }
   ],
   "source": [
    "oms = pd.read_csv(\"./data/oms.csv\")\n",
    "oms.head()"
   ]
  },
  {
   "cell_type": "code",
   "execution_count": 12,
   "metadata": {},
   "outputs": [],
   "source": [
    "def get_hour(run):\n",
    "    duration = oms[oms.run == run].duration.to_list()[0]\n",
    "    duration = pd.to_datetime(duration, format=\"%H:%M:%S\")\n",
    "    return duration.hour"
   ]
  },
  {
   "cell_type": "code",
   "execution_count": 16,
   "metadata": {},
   "outputs": [],
   "source": [
    "@dataclass\n",
    "class EffBand:\n",
    "    x: List[float]\n",
    "    ylow: List[float]\n",
    "    yup: List[float]"
   ]
  },
  {
   "cell_type": "code",
   "execution_count": 19,
   "metadata": {},
   "outputs": [],
   "source": [
    "def make_eff_band(data):\n",
    "    gby = data.groupby('chamber')\n",
    "    ylow = gby.eff.min()\n",
    "    yup = gby.eff.max()\n",
    "\n",
    "    x = ylow.index.to_list()\n",
    "\n",
    "    return EffBand(x, ylow, yup)"
   ]
  },
  {
   "cell_type": "code",
   "execution_count": 20,
   "metadata": {},
   "outputs": [],
   "source": [
    "def plot_fill_between(data, label, color, ax=None):\n",
    "    if ax is None:\n",
    "        ax = plt.gca()\n",
    "        \n",
    "    gby = data.groupby('chamber')\n",
    "    ylow = gby.eff.min()\n",
    "    yup = gby.eff.max()\n",
    "    x = ylow.index.to_list()\n",
    "    y = gby.eff.mean()\n",
    "\n",
    "    ax.fill_between(x, ylow, yup, color=color, label=label, alpha=0.2, interpolate=False)\n",
    "    ax.plot(x, y, color=color, ls=':', marker='s', lw=3)\n",
    "    \n",
    "    ax.plot(x, ylow, alpha=0.5, color=color, ls='-', lw=3)\n",
    "    ax.plot(x, yup, alpha=0.5, color=color, ls='-', lw=3)\n",
    "    \n",
    "    #for run in data.run.unique():\n",
    "    #    run_data = data[data.run == run]\n",
    "    #    ax.plot(run_data.chamber, run_data.eff, color=color, ls='', marker='o', alpha=0.5)"
   ]
  },
  {
   "cell_type": "code",
   "execution_count": 23,
   "metadata": {},
   "outputs": [],
   "source": [
    "data_path = Path(\"./data/Cosmics.csv\")\n",
    "df = pd.read_csv(data_path)\n",
    "hour = df.run.apply(get_hour)\n",
    "df.insert(1, \"hour\", hour)\n",
    "\n",
    "# in hour\n",
    "min_duration = 5\n",
    "\n",
    "# remove \n",
    "df = df[df.status == 1]\n",
    "df = df[df.hour >= min_duration]"
   ]
  },
  {
   "cell_type": "code",
   "execution_count": null,
   "metadata": {},
   "outputs": [],
   "source": [
    "for region, layer in REGION_LAYER_LIST:\n",
    "    fig, ax = plt.subplots(figsize=(18, 6), nrows=1)\n",
    "    \n",
    "    data = df[(df.region == region) & (df.layer == layer)]\n",
    "    \n",
    "    plot_fill_between(data[data.run < RUN_HV680_START], label=\"Jul 12 to Jul 21 (690$\\mu$A)\", color='tab:blue', ax=ax)\n",
    "    plot_fill_between(data[data.run >= RUN_HV680_START], label=\"Jul 22 ~ Jul 25 (680$\\mu$A)\", color='tab:orange', ax=ax)\n",
    "\n",
    "    _ = ax.set_xticks(range(1, NUM_CHAMBERS + 1))\n",
    "    \n",
    "    ax.set_xlabel(\"Chamber\")\n",
    "    ax.set_ylabel(\"Efficiency\")\n",
    "    \n",
    "    title = make_title(region, layer)\n",
    "    ax.set_title(title)\n",
    "    \n",
    "    legend_title = f\"{data_path.stem}, 2-Leg STA, Duration$\\geq${MIN_DURATION_HOUR}h\"\n",
    "    ax.legend(title=legend_title, title_fontsize=16, fontsize=16)\n",
    "    \n",
    "    ax.grid()\n",
    "    ax.set_ylim(-0.05, 1.05)\n",
    "    \n",
    "    plot_name = f\"{data_path.stem}_{title}_duration-{min_duration}\"\n",
    "    plot_path = plot_dir.joinpath(plot_name).with_suffix(\".png\")\n",
    "    \n",
    "    fig.savefig(plot_path, bbox_inches=\"tight\")"
   ]
  },
  {
   "cell_type": "code",
   "execution_count": null,
   "metadata": {},
   "outputs": [],
   "source": []
  },
  {
   "cell_type": "code",
   "execution_count": null,
   "metadata": {},
   "outputs": [],
   "source": []
  },
  {
   "cell_type": "code",
   "execution_count": null,
   "metadata": {},
   "outputs": [],
   "source": []
  },
  {
   "cell_type": "code",
   "execution_count": 247,
   "metadata": {},
   "outputs": [],
   "source": []
  },
  {
   "cell_type": "code",
   "execution_count": 247,
   "metadata": {},
   "outputs": [],
   "source": []
  }
 ],
 "metadata": {
  "kernelspec": {
   "display_name": "Python 3",
   "language": "python",
   "name": "python3"
  },
  "language_info": {
   "codemirror_mode": {
    "name": "ipython",
    "version": 3
   },
   "file_extension": ".py",
   "mimetype": "text/x-python",
   "name": "python",
   "nbconvert_exporter": "python",
   "pygments_lexer": "ipython3",
   "version": "3.6.8"
  }
 },
 "nbformat": 4,
 "nbformat_minor": 4
}
